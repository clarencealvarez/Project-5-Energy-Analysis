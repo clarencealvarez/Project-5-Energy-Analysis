{
 "cells": [
  {
   "cell_type": "markdown",
   "id": "8a07c3c3",
   "metadata": {},
   "source": [
    "## Imports & Reading in data"
   ]
  },
  {
   "cell_type": "code",
   "execution_count": 1,
   "id": "24268327",
   "metadata": {
    "ExecuteTime": {
     "end_time": "2021-11-30T11:25:39.420271Z",
     "start_time": "2021-11-30T11:25:38.918249Z"
    },
    "code_folding": [
     0
    ]
   },
   "outputs": [],
   "source": [
    "# imports\n",
    "import numpy as np\n",
    "import matplotlib.pyplot as plt\n",
    "import pandas as pd\n",
    "\n",
    "main_df = pd.read_csv('../data/cleaned_energy_data.csv')\n",
    "world_index = main_df[main_df['country']=='World'].index\n",
    "main_df_eda = main_df.drop(index=world_index).copy()"
   ]
  },
  {
   "cell_type": "code",
   "execution_count": 2,
   "id": "724a6c96",
   "metadata": {
    "ExecuteTime": {
     "end_time": "2021-11-30T11:25:39.452284Z",
     "start_time": "2021-11-30T11:25:39.421273Z"
    },
    "code_folding": []
   },
   "outputs": [],
   "source": [
    "# making dummy columns for landlocked and nuclear countries\n",
    "landlocked = ['Afghanistan', 'Andorra', 'Armenia', 'Austria', 'Azerbaijan', 'Belarus', 'Bhutan',\n",
    "              'Bolivia', 'Botswana', 'Burkina Faso', 'Burundi', 'Central African Republic', 'Chad',\n",
    "              'Czech Republic','Eswatini', 'Ethiopia', 'Hungary', 'Kazakhstan', 'Kyrgyzstan', 'Laos',\n",
    "              'Lesotho', 'Liechtenstein','Luxembourg', 'Malawi', 'Mali', 'Moldova', 'Mongolia',\n",
    "              'Nepal', 'Niger', 'North Macedonia', 'Paraguay','Rwanda', 'San Marino', 'Serbia',\n",
    "              'Slovakia', 'South Sudan', 'Switzerland', 'Tajikistan','Turkmenistan', 'Uganda',\n",
    "              'Uzbekistan', 'Vatican City', 'Zambia', 'Zimbabwe']\n",
    "\n",
    "nuclear = ['Argentina', 'Armenia', 'Belarus', 'Belgium', 'Brazil', 'Bulgaria', 'Canada', 'China',\n",
    "           'Czech Republic', 'Finland', 'France', 'Germany', 'Hungary', 'India', 'Iran', 'Japan',\n",
    "           'Kazakhstan', 'Lithuania', 'Mexico', 'Netherlands', 'Pakistan', 'Romania', 'Russia',\n",
    "           'Slovakia', 'Slovenia', 'South Africa', 'South Korea', 'Spain', 'Sweden', 'Switzerland',\n",
    "           'Ukraine', 'United Arab Emirates', 'United Kingdom', 'United States']\n",
    "\n",
    "least_developed = ['Afghanistan', 'Angola', 'Bangladesh', 'Benin', 'Bhutan', 'Burkina Faso',\n",
    "                   'Burundi', 'Cambodia', 'Central African Republic', 'Chad', 'Comoros',\n",
    "                   'Congo-Brazzaville', 'Congo-Kinshasa', 'Djibouti', 'Ethiopia', 'Gambia, The',\n",
    "                   'Guinea', 'Guinea-Bissau', 'Haiti', 'Kiribati', 'Laos',  'Lesotho', 'Liberia',\n",
    "                   'Madagascar', 'Malawi', 'Mali', 'Mauritania', 'Mozambique', 'Myanmar', 'Nepal',\n",
    "                   'Niger', 'Rwanda', 'Sao Tome and Principe', 'Senegal', 'Sierra Leone',\n",
    "                   'Solomon Islands', 'Somalia', 'Sudan', 'Togo', 'Uganda', 'Tanzania', 'Yemen',\n",
    "                   'Zambia']\n",
    "\n",
    "oil_exporters = ['Algeria', 'Angola', 'Congo-Brazzaville', 'Equatorial Guinea', 'Gabon', 'Iran',\n",
    "                 'Iraq', 'Kuwait', 'Libya', 'Nigeria', 'Saudi Arabia', 'United Arab Emirates',\n",
    "                 'Venezuela', 'United States', 'Russia', 'China']\n",
    "\n",
    "opec = ['Algeria', 'Angola', 'Congo-Brazzaville', 'Equatorial Guinea', 'Gabon', 'Iran', 'Iraq',\n",
    "        'Kuwait', 'Libya', 'Nigeria', 'Saudi Arabia', 'United Arab Emirates','Venezuela']\n",
    "\n",
    "main_df_eda['is_landlocked'] = main_df_eda['country'].map(lambda x: 1 if x in landlocked else 0)\n",
    "main_df_eda['is_nuclear'] = main_df_eda['country'].map(lambda x: 1 if x in nuclear else 0)\n",
    "main_df_eda['is_least_developed'] = main_df_eda['country'].map(lambda x: 1 if x in least_developed else 0)\n",
    "main_df_eda['is_oil_exporter'] = main_df_eda['country'].map(lambda x: 1 if x in oil_exporters else 0)\n",
    "main_df_eda['is_opec'] = main_df_eda['country'].map(lambda x: 1 if x in opec else 0)"
   ]
  },
  {
   "cell_type": "code",
   "execution_count": 16,
   "id": "e0b16738",
   "metadata": {
    "ExecuteTime": {
     "end_time": "2021-11-30T11:36:30.255438Z",
     "start_time": "2021-11-30T11:36:30.244445Z"
    },
    "code_folding": []
   },
   "outputs": [],
   "source": [
    "def comparison_plots(dummy_var, column):\n",
    "    if not dummy_var.startswith('is_'):\n",
    "        pass\n",
    "    if (column.startswith('is_')) | (column == 'year') | (column == 'country'):\n",
    "        pass\n",
    "    \n",
    "    ylabels_dict = {'population':'Thousands','life_expectancy':'Years','ppp_2015USD':'Billions in 2015USD',\n",
    "                'consumption_per_capita':'Million British Thermal Units Per Capita',\n",
    "                'consumption_per_GDP':'Thousand British Thermal Units Per 2015$ GDP PPP',\n",
    "                'production_total':'Quadrillion British Thermal Units',\n",
    "                'production_coal':'Quadrillion British Thermal Units',\n",
    "                'production_natural_gas':'Quadrillion British Thermal Units',\n",
    "                'production_petrolium_and_other_liquids':'Quadrillion British Thermal Units',\n",
    "                'production_nuclear':'Quadrillion British Thermal Units',\n",
    "                'production_nuclear_renewables_and_other':'Quadrillion British Thermal Units',\n",
    "                'production_renewables_and_other':'Quadrillion British Thermal Units',\n",
    "                'consumption_total':'Quadrillion British Thermal Units',\n",
    "                'consumption_coal':'Quadrillion British Thermal Units',\n",
    "                'consumption_natural_gas':'Quadrillion British Thermal Units',\n",
    "                'consumption_petrolium_and_other_liquids':'Quadrillion British Thermal Units',\n",
    "                'consumption_nuclear':'Quadrillion British Thermal Units',\n",
    "                'consumption_nuclear_renewables_and_other':'Quadrillion British Thermal Units',\n",
    "                'consumption_renewables_and_other':'Quadrillion British Thermal Units',\n",
    "                'imports_crude_oil':'Thousand Barrels Per Day',\n",
    "                'imports_natural_gas':'Billion Cubic Feet',\n",
    "                'imports_coal':'Million Short Tons',\n",
    "                'imports_electricity':'Billion kilowatt-hour',\n",
    "                'exports_crude_oil':'Thousand Barrels Per Day',\n",
    "                'exports_natural_gas':'Billion Cubic Feet',\n",
    "                'exports_coal':'Million Short Tons',\n",
    "                'exports_electricity':'Billion Kilowatt-Hour',\n",
    "                'emissions_co2_emissions':'Million Tons CO2',\n",
    "                'emissions_coal_and_coke':'Million Tons CO2',\n",
    "                'emissions_consumed_natural_gas':'Million Tons CO2',\n",
    "                'emissions_petroleum_and_other_liquids':'Million Tons CO2'}\n",
    "    \n",
    "    is_group = main_df_eda.groupby([str(dummy_var),'year']).mean().loc[1,column]\n",
    "    is_not_group = main_df_eda.groupby([str(dummy_var),'year']).mean().loc[0,column]\n",
    "    is_group.plot(figsize=(9,6), grid=True, label=dummy_var+'_1')\n",
    "    is_not_group.plot(figsize=(9,6), grid=True, label=dummy_var+'_0')\n",
    "    plt.title(label=column.replace('_',' ').title(), fontdict={'size':24})\n",
    "    plt.xlabel(xlabel='Year', fontdict={'size':18})\n",
    "    plt.xticks(list(range(1992,2018,2)))\n",
    "    plt.ylabel(ylabel= ylabels_dict[column], fontdict={'size':18})\n",
    "    plt.legend()"
   ]
  },
  {
   "cell_type": "code",
   "execution_count": 34,
   "id": "1ebf6bc2",
   "metadata": {
    "ExecuteTime": {
     "end_time": "2021-11-30T11:40:50.507884Z",
     "start_time": "2021-11-30T11:40:50.349847Z"
    }
   },
   "outputs": [
    {
     "data": {
      "image/png": "[encoded data removed]",
      "text/plain": [
       "<Figure size 648x432 with 1 Axes>"
      ]
     },
     "metadata": {
      "needs_background": "light"
     },
     "output_type": "display_data"
    }
   ],
   "source": [
    "comparison_plots('is_opec','emissions_co2_emissions')"
   ]
  },
  {
   "cell_type": "code",
   "execution_count": 168,
   "id": "57b13b8a",
   "metadata": {
    "ExecuteTime": {
     "end_time": "2021-11-30T09:36:48.040994Z",
     "start_time": "2021-11-30T09:36:48.023000Z"
    },
    "code_folding": [
     0
    ]
   },
   "outputs": [],
   "source": [
    "# graph attempt 1\n",
    "def get_grouped_plots(dummy_var, dummy_var_value):\n",
    "    \n",
    "    cols = list(main_df_eda.columns)\n",
    "    \n",
    "    # dataframes for population, ppp, life_exp, consumption_per_capita/GDP\n",
    "    df_pop = main_df_eda.groupby([str(dummy_var),'year']).mean().loc[(dummy_var_value,),[cols[2]]]\n",
    "    df_ppp = main_df_eda.groupby([str(dummy_var),'year']).mean().loc[(dummy_var_value,),[cols[6]]]\n",
    "    df_life_exp = main_df_eda.groupby([str(dummy_var),'year']).mean().loc[(dummy_var_value,),[cols[3]]]\n",
    "    df_cons_per_cap = main_df_eda.groupby([str(dummy_var),'year']).mean().loc[(dummy_var_value,),[cols[4]]]\n",
    "    df_cons_per_ppp = main_df_eda.groupby([str(dummy_var),'year']).mean().loc[(dummy_var_value,),[cols[5]]]\n",
    "    \n",
    "    # dataframes for consumption/production, import/export, emissions \n",
    "    df_total = main_df_eda.groupby([str(dummy_var),'year']).mean().loc[(dummy_var_value,),[cols[7],cols[14]]]\n",
    "    df_coal = main_df_eda.groupby([str(dummy_var),'year']).mean().loc[(dummy_var_value,),[cols[8],cols[15]]]\n",
    "    df_nat_gas = main_df_eda.groupby([str(dummy_var),'year']).mean().loc[(dummy_var_value,),[cols[9],cols[16]]]\n",
    "    df_petr = main_df_eda.groupby([str(dummy_var),'year']).mean().loc[(dummy_var_value,),[cols[10],cols[17]]]\n",
    "    df_nuc = main_df_eda.groupby([str(dummy_var),'year']).mean().loc[(dummy_var_value,),[cols[11],cols[18]]]\n",
    "    df_nuc_renew = main_df_eda.groupby([str(dummy_var),'year']).mean().loc[(dummy_var_value,),[cols[12],cols[19]]]\n",
    "    df_renew = main_df_eda.groupby([str(dummy_var),'year']).mean().loc[(dummy_var_value,),[cols[13],cols[20]]]\n",
    "    df_impexp_crude = main_df_eda.groupby([str(dummy_var),'year']).mean().loc[(dummy_var_value,),[cols[21],cols[25]]]\n",
    "    df_impexp_nat_gas = main_df_eda.groupby([str(dummy_var),'year']).mean().loc[(dummy_var_value,),[cols[22],cols[26]]]\n",
    "    df_impexp_coal = main_df_eda.groupby([str(dummy_var),'year']).mean().loc[(dummy_var_value,),[cols[23],cols[27]]]\n",
    "    df_impexp_elec = main_df_eda.groupby([str(dummy_var),'year']).mean().loc[(dummy_var_value,),[cols[24],cols[28]]]\n",
    "    df_em_co2 = main_df_eda.groupby([str(dummy_var),'year']).mean().loc[(dummy_var_value,),cols[29]]\n",
    "    df_em_coal = main_df_eda.groupby([str(dummy_var),'year']).mean().loc[(dummy_var_value,),cols[30]]\n",
    "    df_em_nat_gas = main_df_eda.groupby([str(dummy_var),'year']).mean().loc[(dummy_var_value,),cols[31]]\n",
    "    df_em_petr = main_df_eda.groupby([str(dummy_var),'year']).mean().loc[(dummy_var_value,),cols[32]]\n",
    "    \n",
    "    # define number of rows and columns for subplots\n",
    "    nrow=10\n",
    "    ncol=2                                                                 \n",
    "\n",
    "    # make a list of all dataframes\n",
    "    df_list = [df_pop, df_ppp, df_life_exp, df_cons_per_cap, df_cons_per_ppp, df_total, df_coal,\n",
    "               df_nat_gas, df_petr, df_nuc, df_nuc_renew, df_renew, df_impexp_crude, df_impexp_nat_gas,\n",
    "               df_impexp_coal, df_impexp_elec, df_em_co2, df_em_coal, df_em_nat_gas, df_em_petr]\n",
    "                                                                         \n",
    "    fig, axes = plt.subplots(nrow, ncol)\n",
    "\n",
    "    # plot counter\n",
    "    count=0\n",
    "    for r in range(nrow):\n",
    "        for c in range(ncol):\n",
    "            \n",
    "            df_list[count].plot(kind='line', ax=axes[r,c], figsize=(40,40));\n",
    "            count+=1\n",
    "\n",
    "get_grouped_plots('is_nuclear',1)            "
   ]
  }
 ],
 "metadata": {
  "kernelspec": {
   "display_name": "Python 3",
   "language": "python",
   "name": "python3"
  },
  "language_info": {
   "codemirror_mode": {
    "name": "ipython",
    "version": 3
   },
   "file_extension": ".py",
   "mimetype": "text/x-python",
   "name": "python",
   "nbconvert_exporter": "python",
   "pygments_lexer": "ipython3",
   "version": "3.8.8"
  }
 },
 "nbformat": 4,
 "nbformat_minor": 5
}
