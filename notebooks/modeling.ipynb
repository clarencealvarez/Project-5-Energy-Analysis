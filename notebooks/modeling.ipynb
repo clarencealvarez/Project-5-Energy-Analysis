{
 "cells": [
  {
   "cell_type": "markdown",
   "id": "beaaf152",
   "metadata": {},
   "source": [
    "# Modeling - Pooled OLS, Fixed Effects, Random Effects"
   ]
  },
  {
   "cell_type": "code",
   "execution_count": 1,
   "id": "7e1b7d61",
   "metadata": {
    "ExecuteTime": {
     "end_time": "2021-12-04T03:02:14.153446Z",
     "start_time": "2021-12-04T03:02:10.693418Z"
    },
    "code_folding": [
     0
    ]
   },
   "outputs": [],
   "source": [
    "#imports\n",
    "from linearmodels import PooledOLS\n",
    "import statsmodels.api as sm\n",
    "from statsmodels.stats.diagnostic import het_white, het_breuschpagan\n",
    "from statsmodels.stats.stattools import durbin_watson\n",
    "from linearmodels import PanelOLS\n",
    "from linearmodels import RandomEffects\n",
    "import numpy.linalg as la\n",
    "from scipy import stats\n",
    "import pandas as pd \n",
    "import matplotlib.pyplot as plt\n",
    "import numpy as np"
   ]
  },
  {
   "cell_type": "markdown",
   "id": "fe7f07bc",
   "metadata": {},
   "source": [
    "Special credit to Bernhard Brugger, whose insightful article provided a comprehensive step by step approach to panel data regression in Python. You can view article [here](https://towardsdatascience.com/a-guide-to-panel-data-regression-theoretics-and-implementation-with-python-4c84c5055cf8).\n"
   ]
  },
  {
   "cell_type": "code",
   "execution_count": 2,
   "id": "ce718abf",
   "metadata": {
    "ExecuteTime": {
     "end_time": "2021-12-04T03:02:14.200461Z",
     "start_time": "2021-12-04T03:02:14.154447Z"
    },
    "code_folding": [
     0
    ]
   },
   "outputs": [],
   "source": [
    "#Reading data\n",
    "df = pd.read_csv ('../data/cleaned_energy_data.csv')"
   ]
  },
  {
   "cell_type": "code",
   "execution_count": 3,
   "id": "4a7e0785",
   "metadata": {
    "ExecuteTime": {
     "end_time": "2021-12-04T03:02:14.232466Z",
     "start_time": "2021-12-04T03:02:14.201462Z"
    },
    "code_folding": [
     0
    ]
   },
   "outputs": [],
   "source": [
    "#Creating new columns for dummy variables for sub categories \n",
    "\n",
    "landlocked = ['Afghanistan', 'Andorra', 'Armenia', 'Austria', 'Azerbaijan', 'Belarus', 'Bhutan',\n",
    "              'Bolivia', 'Botswana', 'Burkina Faso', 'Burundi', 'Central African Republic', 'Chad',\n",
    "              'Czech Republic','Eswatini', 'Ethiopia', 'Hungary', 'Kazakhstan', 'Kyrgyzstan', 'Laos',\n",
    "              'Lesotho', 'Liechtenstein','Luxembourg', 'Malawi', 'Mali', 'Moldova', 'Mongolia',\n",
    "              'Nepal', 'Niger', 'North Macedonia', 'Paraguay','Rwanda', 'San Marino', 'Serbia',\n",
    "              'Slovakia', 'South Sudan', 'Switzerland', 'Tajikistan','Turkmenistan', 'Uganda',\n",
    "              'Uzbekistan', 'Vatican City', 'Zambia', 'Zimbabwe']\n",
    "\n",
    "nuclear = ['Argentina', 'Armenia', 'Belarus', 'Belgium', 'Brazil', 'Bulgaria', 'Canada', 'China',\n",
    "           'Czech Republic', 'Finland', 'France', 'Germany', 'Hungary', 'India', 'Iran', 'Japan',\n",
    "           'Kazakhstan', 'Lithuania', 'Mexico', 'Netherlands', 'Pakistan', 'Romania', 'Russia',\n",
    "           'Slovakia', 'Slovenia', 'South Africa', 'South Korea', 'Spain', 'Sweden', 'Switzerland',\n",
    "           'Ukraine', 'United Arab Emirates', 'United Kingdom', 'United States']\n",
    "\n",
    "least_developed = ['Afghanistan', 'Angola', 'Bangladesh', 'Benin', 'Bhutan', 'Burkina Faso',\n",
    "                   'Burundi', 'Cambodia', 'Central African Republic', 'Chad', 'Comoros',\n",
    "                   'Congo-Brazzaville', 'Congo-Kinshasa', 'Djibouti', 'Ethiopia', 'Gambia, The',\n",
    "                   'Guinea', 'Guinea-Bissau', 'Haiti', 'Kiribati', 'Laos',  'Lesotho', 'Liberia',\n",
    "                   'Madagascar', 'Malawi', 'Mali', 'Mauritania', 'Mozambique', 'Myanmar', 'Nepal',\n",
    "                   'Niger', 'Rwanda', 'Sao Tome and Principe', 'Senegal', 'Sierra Leone',\n",
    "                   'Solomon Islands', 'Somalia', 'Sudan', 'Togo', 'Uganda', 'Tanzania', 'Yemen',\n",
    "                   'Zambia']\n",
    "\n",
    "oil_exporters = ['Algeria', 'Angola', 'Congo-Brazzaville', 'Equatorial Guinea', 'Gabon', 'Iran',\n",
    "                 'Iraq', 'Kuwait', 'Libya', 'Nigeria', 'Saudi Arabia', 'United Arab Emirates',\n",
    "                 'Venezuela', 'United States', 'Russia', 'China']\n",
    "\n",
    "opec = ['Algeria', 'Angola', 'Congo-Brazzaville', 'Equatorial Guinea', 'Gabon', 'Iran', 'Iraq',\n",
    "        'Kuwait', 'Libya', 'Nigeria', 'Saudi Arabia', 'United Arab Emirates','Venezuela']\n",
    "\n",
    "df['is_landlocked'] = df['country'].map(lambda x: 1 if x in landlocked else 0)\n",
    "df['is_nuclear'] = df['country'].map(lambda x: 1 if x in nuclear else 0)\n",
    "df['is_least_developed'] = df['country'].map(lambda x: 1 if x in least_developed else 0)\n",
    "df['is_oil_exporter'] = df['country'].map(lambda x: 1 if x in oil_exporters else 0)\n",
    "df['is_opec'] = df['country'].map(lambda x: 1 if x in opec else 0)"
   ]
  },
  {
   "cell_type": "code",
   "execution_count": 4,
   "id": "67435128",
   "metadata": {
    "ExecuteTime": {
     "end_time": "2021-12-04T03:02:14.264474Z",
     "start_time": "2021-12-04T03:02:14.233467Z"
    },
    "code_folding": [
     0
    ]
   },
   "outputs": [
    {
     "data": {
      "text/html": [
       "<div>\n",
       "<style scoped>\n",
       "    .dataframe tbody tr th:only-of-type {\n",
       "        vertical-align: middle;\n",
       "    }\n",
       "\n",
       "    .dataframe tbody tr th {\n",
       "        vertical-align: top;\n",
       "    }\n",
       "\n",
       "    .dataframe thead th {\n",
       "        text-align: right;\n",
       "    }\n",
       "</style>\n",
       "<table border=\"1\" class=\"dataframe\">\n",
       "  <thead>\n",
       "    <tr style=\"text-align: right;\">\n",
       "      <th></th>\n",
       "      <th>country</th>\n",
       "      <th>year</th>\n",
       "      <th>population</th>\n",
       "      <th>life_expectancy</th>\n",
       "      <th>consumption_per_capita</th>\n",
       "      <th>consumption_per_GDP</th>\n",
       "      <th>ppp_2015USD</th>\n",
       "      <th>production_total</th>\n",
       "      <th>production_coal</th>\n",
       "      <th>production_natural_gas</th>\n",
       "      <th>...</th>\n",
       "      <th>exports_electricity</th>\n",
       "      <th>emissions_co2_emissions</th>\n",
       "      <th>emissions_coal_and_coke</th>\n",
       "      <th>emissions_consumed_natural_gas</th>\n",
       "      <th>emissions_petroleum_and_other_liquids</th>\n",
       "      <th>is_landlocked</th>\n",
       "      <th>is_nuclear</th>\n",
       "      <th>is_least_developed</th>\n",
       "      <th>is_oil_exporter</th>\n",
       "      <th>is_opec</th>\n",
       "    </tr>\n",
       "  </thead>\n",
       "  <tbody>\n",
       "    <tr>\n",
       "      <th>0</th>\n",
       "      <td>World</td>\n",
       "      <td>1992</td>\n",
       "      <td>5.481774e+06</td>\n",
       "      <td>65.769659</td>\n",
       "      <td>64.426755</td>\n",
       "      <td>6.923158</td>\n",
       "      <td>51013.270526</td>\n",
       "      <td>353.718416</td>\n",
       "      <td>92.558725</td>\n",
       "      <td>76.984223</td>\n",
       "      <td>...</td>\n",
       "      <td>400.795117</td>\n",
       "      <td>22529.424264</td>\n",
       "      <td>8587.186368</td>\n",
       "      <td>4076.853622</td>\n",
       "      <td>9865.384274</td>\n",
       "      <td>0</td>\n",
       "      <td>0</td>\n",
       "      <td>0</td>\n",
       "      <td>0</td>\n",
       "      <td>0</td>\n",
       "    </tr>\n",
       "    <tr>\n",
       "      <th>1</th>\n",
       "      <td>Afghanistan</td>\n",
       "      <td>1992</td>\n",
       "      <td>1.448550e+04</td>\n",
       "      <td>51.641000</td>\n",
       "      <td>2.159523</td>\n",
       "      <td>1.042253</td>\n",
       "      <td>30.013600</td>\n",
       "      <td>0.016143</td>\n",
       "      <td>0.000158</td>\n",
       "      <td>0.011092</td>\n",
       "      <td>...</td>\n",
       "      <td>0.000000</td>\n",
       "      <td>1.704078</td>\n",
       "      <td>0.015551</td>\n",
       "      <td>0.588528</td>\n",
       "      <td>1.100000</td>\n",
       "      <td>1</td>\n",
       "      <td>0</td>\n",
       "      <td>1</td>\n",
       "      <td>0</td>\n",
       "      <td>0</td>\n",
       "    </tr>\n",
       "    <tr>\n",
       "      <th>2</th>\n",
       "      <td>Albania</td>\n",
       "      <td>1992</td>\n",
       "      <td>3.245890e+03</td>\n",
       "      <td>71.802000</td>\n",
       "      <td>25.937798</td>\n",
       "      <td>8.087302</td>\n",
       "      <td>10.410300</td>\n",
       "      <td>0.065519</td>\n",
       "      <td>0.003415</td>\n",
       "      <td>0.003760</td>\n",
       "      <td>...</td>\n",
       "      <td>0.560000</td>\n",
       "      <td>3.901890</td>\n",
       "      <td>0.502372</td>\n",
       "      <td>0.199519</td>\n",
       "      <td>3.200000</td>\n",
       "      <td>0</td>\n",
       "      <td>0</td>\n",
       "      <td>0</td>\n",
       "      <td>0</td>\n",
       "      <td>0</td>\n",
       "    </tr>\n",
       "    <tr>\n",
       "      <th>3</th>\n",
       "      <td>Algeria</td>\n",
       "      <td>1992</td>\n",
       "      <td>2.702830e+04</td>\n",
       "      <td>67.575000</td>\n",
       "      <td>48.164981</td>\n",
       "      <td>5.592648</td>\n",
       "      <td>232.773000</td>\n",
       "      <td>5.031036</td>\n",
       "      <td>0.000380</td>\n",
       "      <td>2.325281</td>\n",
       "      <td>...</td>\n",
       "      <td>1.061000</td>\n",
       "      <td>74.390488</td>\n",
       "      <td>2.687475</td>\n",
       "      <td>45.703013</td>\n",
       "      <td>26.000000</td>\n",
       "      <td>0</td>\n",
       "      <td>0</td>\n",
       "      <td>0</td>\n",
       "      <td>1</td>\n",
       "      <td>1</td>\n",
       "    </tr>\n",
       "    <tr>\n",
       "      <th>4</th>\n",
       "      <td>Angola</td>\n",
       "      <td>1992</td>\n",
       "      <td>1.265740e+04</td>\n",
       "      <td>45.230000</td>\n",
       "      <td>6.689229</td>\n",
       "      <td>1.423070</td>\n",
       "      <td>59.496900</td>\n",
       "      <td>1.152349</td>\n",
       "      <td>0.000000</td>\n",
       "      <td>0.021076</td>\n",
       "      <td>...</td>\n",
       "      <td>0.000000</td>\n",
       "      <td>5.218203</td>\n",
       "      <td>0.000000</td>\n",
       "      <td>1.118203</td>\n",
       "      <td>4.100000</td>\n",
       "      <td>0</td>\n",
       "      <td>0</td>\n",
       "      <td>1</td>\n",
       "      <td>1</td>\n",
       "      <td>1</td>\n",
       "    </tr>\n",
       "  </tbody>\n",
       "</table>\n",
       "<p>5 rows × 38 columns</p>\n",
       "</div>"
      ],
      "text/plain": [
       "       country  year    population  life_expectancy  consumption_per_capita  \\\n",
       "0        World  1992  5.481774e+06        65.769659               64.426755   \n",
       "1  Afghanistan  1992  1.448550e+04        51.641000                2.159523   \n",
       "2      Albania  1992  3.245890e+03        71.802000               25.937798   \n",
       "3      Algeria  1992  2.702830e+04        67.575000               48.164981   \n",
       "4       Angola  1992  1.265740e+04        45.230000                6.689229   \n",
       "\n",
       "   consumption_per_GDP   ppp_2015USD  production_total  production_coal  \\\n",
       "0             6.923158  51013.270526        353.718416        92.558725   \n",
       "1             1.042253     30.013600          0.016143         0.000158   \n",
       "2             8.087302     10.410300          0.065519         0.003415   \n",
       "3             5.592648    232.773000          5.031036         0.000380   \n",
       "4             1.423070     59.496900          1.152349         0.000000   \n",
       "\n",
       "   production_natural_gas  ...  exports_electricity  emissions_co2_emissions  \\\n",
       "0               76.984223  ...           400.795117             22529.424264   \n",
       "1                0.011092  ...             0.000000                 1.704078   \n",
       "2                0.003760  ...             0.560000                 3.901890   \n",
       "3                2.325281  ...             1.061000                74.390488   \n",
       "4                0.021076  ...             0.000000                 5.218203   \n",
       "\n",
       "   emissions_coal_and_coke  emissions_consumed_natural_gas  \\\n",
       "0              8587.186368                     4076.853622   \n",
       "1                 0.015551                        0.588528   \n",
       "2                 0.502372                        0.199519   \n",
       "3                 2.687475                       45.703013   \n",
       "4                 0.000000                        1.118203   \n",
       "\n",
       "   emissions_petroleum_and_other_liquids  is_landlocked  is_nuclear  \\\n",
       "0                            9865.384274              0           0   \n",
       "1                               1.100000              1           0   \n",
       "2                               3.200000              0           0   \n",
       "3                              26.000000              0           0   \n",
       "4                               4.100000              0           0   \n",
       "\n",
       "   is_least_developed  is_oil_exporter  is_opec  \n",
       "0                   0                0        0  \n",
       "1                   1                0        0  \n",
       "2                   0                0        0  \n",
       "3                   0                1        1  \n",
       "4                   1                1        1  \n",
       "\n",
       "[5 rows x 38 columns]"
      ]
     },
     "metadata": {},
     "output_type": "display_data"
    },
    {
     "data": {
      "text/plain": [
       "(4698, 38)"
      ]
     },
     "metadata": {},
     "output_type": "display_data"
    }
   ],
   "source": [
    "#displaying first 5 rows and dimensions of dataframe\n",
    "display(df.head())\n",
    "display(df.shape)"
   ]
  },
  {
   "cell_type": "code",
   "execution_count": 5,
   "id": "83d10e54",
   "metadata": {
    "ExecuteTime": {
     "end_time": "2021-12-04T03:02:14.296480Z",
     "start_time": "2021-12-04T03:02:14.265474Z"
    },
    "code_folding": [
     0
    ]
   },
   "outputs": [
    {
     "data": {
      "text/html": [
       "<div>\n",
       "<style scoped>\n",
       "    .dataframe tbody tr th:only-of-type {\n",
       "        vertical-align: middle;\n",
       "    }\n",
       "\n",
       "    .dataframe tbody tr th {\n",
       "        vertical-align: top;\n",
       "    }\n",
       "\n",
       "    .dataframe thead th {\n",
       "        text-align: right;\n",
       "    }\n",
       "</style>\n",
       "<table border=\"1\" class=\"dataframe\">\n",
       "  <thead>\n",
       "    <tr style=\"text-align: right;\">\n",
       "      <th></th>\n",
       "      <th></th>\n",
       "      <th>population</th>\n",
       "      <th>life_expectancy</th>\n",
       "      <th>consumption_per_capita</th>\n",
       "      <th>consumption_per_GDP</th>\n",
       "      <th>ppp_2015USD</th>\n",
       "      <th>production_total</th>\n",
       "      <th>production_coal</th>\n",
       "      <th>production_natural_gas</th>\n",
       "      <th>production_petrolium_and_other_liquids</th>\n",
       "      <th>production_nuclear</th>\n",
       "      <th>...</th>\n",
       "      <th>exports_electricity</th>\n",
       "      <th>emissions_co2_emissions</th>\n",
       "      <th>emissions_coal_and_coke</th>\n",
       "      <th>emissions_consumed_natural_gas</th>\n",
       "      <th>emissions_petroleum_and_other_liquids</th>\n",
       "      <th>is_landlocked</th>\n",
       "      <th>is_nuclear</th>\n",
       "      <th>is_least_developed</th>\n",
       "      <th>is_oil_exporter</th>\n",
       "      <th>is_opec</th>\n",
       "    </tr>\n",
       "    <tr>\n",
       "      <th>country</th>\n",
       "      <th>year</th>\n",
       "      <th></th>\n",
       "      <th></th>\n",
       "      <th></th>\n",
       "      <th></th>\n",
       "      <th></th>\n",
       "      <th></th>\n",
       "      <th></th>\n",
       "      <th></th>\n",
       "      <th></th>\n",
       "      <th></th>\n",
       "      <th></th>\n",
       "      <th></th>\n",
       "      <th></th>\n",
       "      <th></th>\n",
       "      <th></th>\n",
       "      <th></th>\n",
       "      <th></th>\n",
       "      <th></th>\n",
       "      <th></th>\n",
       "      <th></th>\n",
       "      <th></th>\n",
       "    </tr>\n",
       "  </thead>\n",
       "  <tbody>\n",
       "    <tr>\n",
       "      <th>World</th>\n",
       "      <th>1992</th>\n",
       "      <td>5.481774e+06</td>\n",
       "      <td>65.769659</td>\n",
       "      <td>64.426755</td>\n",
       "      <td>6.923158</td>\n",
       "      <td>51013.270526</td>\n",
       "      <td>353.718416</td>\n",
       "      <td>92.558725</td>\n",
       "      <td>76.984223</td>\n",
       "      <td>135.972335</td>\n",
       "      <td>21.27974</td>\n",
       "      <td>...</td>\n",
       "      <td>400.795117</td>\n",
       "      <td>22529.424264</td>\n",
       "      <td>8587.186368</td>\n",
       "      <td>4076.853622</td>\n",
       "      <td>9865.384274</td>\n",
       "      <td>0</td>\n",
       "      <td>0</td>\n",
       "      <td>0</td>\n",
       "      <td>0</td>\n",
       "      <td>0</td>\n",
       "    </tr>\n",
       "    <tr>\n",
       "      <th>Afghanistan</th>\n",
       "      <th>1992</th>\n",
       "      <td>1.448550e+04</td>\n",
       "      <td>51.641000</td>\n",
       "      <td>2.159523</td>\n",
       "      <td>1.042253</td>\n",
       "      <td>30.013600</td>\n",
       "      <td>0.016143</td>\n",
       "      <td>0.000158</td>\n",
       "      <td>0.011092</td>\n",
       "      <td>0.000000</td>\n",
       "      <td>NaN</td>\n",
       "      <td>...</td>\n",
       "      <td>0.000000</td>\n",
       "      <td>1.704078</td>\n",
       "      <td>0.015551</td>\n",
       "      <td>0.588528</td>\n",
       "      <td>1.100000</td>\n",
       "      <td>1</td>\n",
       "      <td>0</td>\n",
       "      <td>1</td>\n",
       "      <td>0</td>\n",
       "      <td>0</td>\n",
       "    </tr>\n",
       "    <tr>\n",
       "      <th>Albania</th>\n",
       "      <th>1992</th>\n",
       "      <td>3.245890e+03</td>\n",
       "      <td>71.802000</td>\n",
       "      <td>25.937798</td>\n",
       "      <td>8.087302</td>\n",
       "      <td>10.410300</td>\n",
       "      <td>0.065519</td>\n",
       "      <td>0.003415</td>\n",
       "      <td>0.003760</td>\n",
       "      <td>0.025384</td>\n",
       "      <td>NaN</td>\n",
       "      <td>...</td>\n",
       "      <td>0.560000</td>\n",
       "      <td>3.901890</td>\n",
       "      <td>0.502372</td>\n",
       "      <td>0.199519</td>\n",
       "      <td>3.200000</td>\n",
       "      <td>0</td>\n",
       "      <td>0</td>\n",
       "      <td>0</td>\n",
       "      <td>0</td>\n",
       "      <td>0</td>\n",
       "    </tr>\n",
       "    <tr>\n",
       "      <th>Algeria</th>\n",
       "      <th>1992</th>\n",
       "      <td>2.702830e+04</td>\n",
       "      <td>67.575000</td>\n",
       "      <td>48.164981</td>\n",
       "      <td>5.592648</td>\n",
       "      <td>232.773000</td>\n",
       "      <td>5.031036</td>\n",
       "      <td>0.000380</td>\n",
       "      <td>2.325281</td>\n",
       "      <td>2.703338</td>\n",
       "      <td>NaN</td>\n",
       "      <td>...</td>\n",
       "      <td>1.061000</td>\n",
       "      <td>74.390488</td>\n",
       "      <td>2.687475</td>\n",
       "      <td>45.703013</td>\n",
       "      <td>26.000000</td>\n",
       "      <td>0</td>\n",
       "      <td>0</td>\n",
       "      <td>0</td>\n",
       "      <td>1</td>\n",
       "      <td>1</td>\n",
       "    </tr>\n",
       "    <tr>\n",
       "      <th>Angola</th>\n",
       "      <th>1992</th>\n",
       "      <td>1.265740e+04</td>\n",
       "      <td>45.230000</td>\n",
       "      <td>6.689229</td>\n",
       "      <td>1.423070</td>\n",
       "      <td>59.496900</td>\n",
       "      <td>1.152349</td>\n",
       "      <td>0.000000</td>\n",
       "      <td>0.021076</td>\n",
       "      <td>1.122669</td>\n",
       "      <td>NaN</td>\n",
       "      <td>...</td>\n",
       "      <td>0.000000</td>\n",
       "      <td>5.218203</td>\n",
       "      <td>0.000000</td>\n",
       "      <td>1.118203</td>\n",
       "      <td>4.100000</td>\n",
       "      <td>0</td>\n",
       "      <td>0</td>\n",
       "      <td>1</td>\n",
       "      <td>1</td>\n",
       "      <td>1</td>\n",
       "    </tr>\n",
       "  </tbody>\n",
       "</table>\n",
       "<p>5 rows × 36 columns</p>\n",
       "</div>"
      ],
      "text/plain": [
       "                    population  life_expectancy  consumption_per_capita  \\\n",
       "country     year                                                          \n",
       "World       1992  5.481774e+06        65.769659               64.426755   \n",
       "Afghanistan 1992  1.448550e+04        51.641000                2.159523   \n",
       "Albania     1992  3.245890e+03        71.802000               25.937798   \n",
       "Algeria     1992  2.702830e+04        67.575000               48.164981   \n",
       "Angola      1992  1.265740e+04        45.230000                6.689229   \n",
       "\n",
       "                  consumption_per_GDP   ppp_2015USD  production_total  \\\n",
       "country     year                                                        \n",
       "World       1992             6.923158  51013.270526        353.718416   \n",
       "Afghanistan 1992             1.042253     30.013600          0.016143   \n",
       "Albania     1992             8.087302     10.410300          0.065519   \n",
       "Algeria     1992             5.592648    232.773000          5.031036   \n",
       "Angola      1992             1.423070     59.496900          1.152349   \n",
       "\n",
       "                  production_coal  production_natural_gas  \\\n",
       "country     year                                            \n",
       "World       1992        92.558725               76.984223   \n",
       "Afghanistan 1992         0.000158                0.011092   \n",
       "Albania     1992         0.003415                0.003760   \n",
       "Algeria     1992         0.000380                2.325281   \n",
       "Angola      1992         0.000000                0.021076   \n",
       "\n",
       "                  production_petrolium_and_other_liquids  production_nuclear  \\\n",
       "country     year                                                               \n",
       "World       1992                              135.972335            21.27974   \n",
       "Afghanistan 1992                                0.000000                 NaN   \n",
       "Albania     1992                                0.025384                 NaN   \n",
       "Algeria     1992                                2.703338                 NaN   \n",
       "Angola      1992                                1.122669                 NaN   \n",
       "\n",
       "                  ...  exports_electricity  emissions_co2_emissions  \\\n",
       "country     year  ...                                                 \n",
       "World       1992  ...           400.795117             22529.424264   \n",
       "Afghanistan 1992  ...             0.000000                 1.704078   \n",
       "Albania     1992  ...             0.560000                 3.901890   \n",
       "Algeria     1992  ...             1.061000                74.390488   \n",
       "Angola      1992  ...             0.000000                 5.218203   \n",
       "\n",
       "                  emissions_coal_and_coke  emissions_consumed_natural_gas  \\\n",
       "country     year                                                            \n",
       "World       1992              8587.186368                     4076.853622   \n",
       "Afghanistan 1992                 0.015551                        0.588528   \n",
       "Albania     1992                 0.502372                        0.199519   \n",
       "Algeria     1992                 2.687475                       45.703013   \n",
       "Angola      1992                 0.000000                        1.118203   \n",
       "\n",
       "                  emissions_petroleum_and_other_liquids  is_landlocked  \\\n",
       "country     year                                                         \n",
       "World       1992                            9865.384274              0   \n",
       "Afghanistan 1992                               1.100000              1   \n",
       "Albania     1992                               3.200000              0   \n",
       "Algeria     1992                              26.000000              0   \n",
       "Angola      1992                               4.100000              0   \n",
       "\n",
       "                  is_nuclear  is_least_developed  is_oil_exporter  is_opec  \n",
       "country     year                                                            \n",
       "World       1992           0                   0                0        0  \n",
       "Afghanistan 1992           0                   1                0        0  \n",
       "Albania     1992           0                   0                0        0  \n",
       "Algeria     1992           0                   0                1        1  \n",
       "Angola      1992           0                   1                1        1  \n",
       "\n",
       "[5 rows x 36 columns]"
      ]
     },
     "execution_count": 5,
     "metadata": {},
     "output_type": "execute_result"
    }
   ],
   "source": [
    "#Setting multilevel index\n",
    "df= df.set_index(['country','year'])\n",
    "df.head()"
   ]
  },
  {
   "cell_type": "code",
   "execution_count": 6,
   "id": "292c1e16",
   "metadata": {
    "ExecuteTime": {
     "end_time": "2021-12-04T03:02:14.312488Z",
     "start_time": "2021-12-04T03:02:14.297481Z"
    },
    "code_folding": [
     0
    ]
   },
   "outputs": [],
   "source": [
    "#dropping \"World\" rows\n",
    "df.drop('World',level=0, axis= 0, inplace=True)"
   ]
  },
  {
   "cell_type": "code",
   "execution_count": 7,
   "id": "b0e67603",
   "metadata": {
    "ExecuteTime": {
     "end_time": "2021-12-04T03:02:14.344495Z",
     "start_time": "2021-12-04T03:02:14.314489Z"
    },
    "code_folding": [
     0
    ],
    "scrolled": true
   },
   "outputs": [
    {
     "data": {
      "text/html": [
       "<div>\n",
       "<style scoped>\n",
       "    .dataframe tbody tr th:only-of-type {\n",
       "        vertical-align: middle;\n",
       "    }\n",
       "\n",
       "    .dataframe tbody tr th {\n",
       "        vertical-align: top;\n",
       "    }\n",
       "\n",
       "    .dataframe thead th {\n",
       "        text-align: right;\n",
       "    }\n",
       "</style>\n",
       "<table border=\"1\" class=\"dataframe\">\n",
       "  <thead>\n",
       "    <tr style=\"text-align: right;\">\n",
       "      <th></th>\n",
       "      <th></th>\n",
       "      <th>population</th>\n",
       "      <th>life_expectancy</th>\n",
       "      <th>consumption_per_capita</th>\n",
       "      <th>consumption_per_GDP</th>\n",
       "      <th>ppp_2015USD</th>\n",
       "      <th>production_total</th>\n",
       "      <th>production_coal</th>\n",
       "      <th>production_natural_gas</th>\n",
       "      <th>production_petrolium_and_other_liquids</th>\n",
       "      <th>production_nuclear</th>\n",
       "      <th>...</th>\n",
       "      <th>exports_electricity</th>\n",
       "      <th>emissions_co2_emissions</th>\n",
       "      <th>emissions_coal_and_coke</th>\n",
       "      <th>emissions_consumed_natural_gas</th>\n",
       "      <th>emissions_petroleum_and_other_liquids</th>\n",
       "      <th>is_landlocked</th>\n",
       "      <th>is_nuclear</th>\n",
       "      <th>is_least_developed</th>\n",
       "      <th>is_oil_exporter</th>\n",
       "      <th>is_opec</th>\n",
       "    </tr>\n",
       "    <tr>\n",
       "      <th>country</th>\n",
       "      <th>year</th>\n",
       "      <th></th>\n",
       "      <th></th>\n",
       "      <th></th>\n",
       "      <th></th>\n",
       "      <th></th>\n",
       "      <th></th>\n",
       "      <th></th>\n",
       "      <th></th>\n",
       "      <th></th>\n",
       "      <th></th>\n",
       "      <th></th>\n",
       "      <th></th>\n",
       "      <th></th>\n",
       "      <th></th>\n",
       "      <th></th>\n",
       "      <th></th>\n",
       "      <th></th>\n",
       "      <th></th>\n",
       "      <th></th>\n",
       "      <th></th>\n",
       "      <th></th>\n",
       "    </tr>\n",
       "  </thead>\n",
       "  <tbody>\n",
       "    <tr>\n",
       "      <th>Afghanistan</th>\n",
       "      <th>1992</th>\n",
       "      <td>14485.5000</td>\n",
       "      <td>51.641</td>\n",
       "      <td>2.159523</td>\n",
       "      <td>1.042253</td>\n",
       "      <td>30.01360</td>\n",
       "      <td>0.016143</td>\n",
       "      <td>0.000158</td>\n",
       "      <td>0.011092</td>\n",
       "      <td>0.000000</td>\n",
       "      <td>NaN</td>\n",
       "      <td>...</td>\n",
       "      <td>0.000</td>\n",
       "      <td>1.704078</td>\n",
       "      <td>0.015551</td>\n",
       "      <td>0.588528</td>\n",
       "      <td>1.1</td>\n",
       "      <td>1</td>\n",
       "      <td>0</td>\n",
       "      <td>1</td>\n",
       "      <td>0</td>\n",
       "      <td>0</td>\n",
       "    </tr>\n",
       "    <tr>\n",
       "      <th>Albania</th>\n",
       "      <th>1992</th>\n",
       "      <td>3245.8900</td>\n",
       "      <td>71.802</td>\n",
       "      <td>25.937798</td>\n",
       "      <td>8.087302</td>\n",
       "      <td>10.41030</td>\n",
       "      <td>0.065519</td>\n",
       "      <td>0.003415</td>\n",
       "      <td>0.003760</td>\n",
       "      <td>0.025384</td>\n",
       "      <td>NaN</td>\n",
       "      <td>...</td>\n",
       "      <td>0.560</td>\n",
       "      <td>3.901890</td>\n",
       "      <td>0.502372</td>\n",
       "      <td>0.199519</td>\n",
       "      <td>3.2</td>\n",
       "      <td>0</td>\n",
       "      <td>0</td>\n",
       "      <td>0</td>\n",
       "      <td>0</td>\n",
       "      <td>0</td>\n",
       "    </tr>\n",
       "    <tr>\n",
       "      <th>Algeria</th>\n",
       "      <th>1992</th>\n",
       "      <td>27028.3000</td>\n",
       "      <td>67.575</td>\n",
       "      <td>48.164981</td>\n",
       "      <td>5.592648</td>\n",
       "      <td>232.77300</td>\n",
       "      <td>5.031036</td>\n",
       "      <td>0.000380</td>\n",
       "      <td>2.325281</td>\n",
       "      <td>2.703338</td>\n",
       "      <td>NaN</td>\n",
       "      <td>...</td>\n",
       "      <td>1.061</td>\n",
       "      <td>74.390488</td>\n",
       "      <td>2.687475</td>\n",
       "      <td>45.703013</td>\n",
       "      <td>26.0</td>\n",
       "      <td>0</td>\n",
       "      <td>0</td>\n",
       "      <td>0</td>\n",
       "      <td>1</td>\n",
       "      <td>1</td>\n",
       "    </tr>\n",
       "    <tr>\n",
       "      <th>Angola</th>\n",
       "      <th>1992</th>\n",
       "      <td>12657.4000</td>\n",
       "      <td>45.230</td>\n",
       "      <td>6.689229</td>\n",
       "      <td>1.423070</td>\n",
       "      <td>59.49690</td>\n",
       "      <td>1.152349</td>\n",
       "      <td>0.000000</td>\n",
       "      <td>0.021076</td>\n",
       "      <td>1.122669</td>\n",
       "      <td>NaN</td>\n",
       "      <td>...</td>\n",
       "      <td>0.000</td>\n",
       "      <td>5.218203</td>\n",
       "      <td>0.000000</td>\n",
       "      <td>1.118203</td>\n",
       "      <td>4.1</td>\n",
       "      <td>0</td>\n",
       "      <td>0</td>\n",
       "      <td>1</td>\n",
       "      <td>1</td>\n",
       "      <td>1</td>\n",
       "    </tr>\n",
       "    <tr>\n",
       "      <th>Antigua and Barbuda</th>\n",
       "      <th>1992</th>\n",
       "      <td>64.9886</td>\n",
       "      <td>72.006</td>\n",
       "      <td>91.763340</td>\n",
       "      <td>5.867116</td>\n",
       "      <td>1.01644</td>\n",
       "      <td>0.000000</td>\n",
       "      <td>0.000000</td>\n",
       "      <td>0.000000</td>\n",
       "      <td>0.000000</td>\n",
       "      <td>NaN</td>\n",
       "      <td>...</td>\n",
       "      <td>0.000</td>\n",
       "      <td>0.400000</td>\n",
       "      <td>0.000000</td>\n",
       "      <td>0.000000</td>\n",
       "      <td>0.4</td>\n",
       "      <td>0</td>\n",
       "      <td>0</td>\n",
       "      <td>0</td>\n",
       "      <td>0</td>\n",
       "      <td>0</td>\n",
       "    </tr>\n",
       "  </tbody>\n",
       "</table>\n",
       "<p>5 rows × 36 columns</p>\n",
       "</div>"
      ],
      "text/plain": [
       "                          population  life_expectancy  consumption_per_capita  \\\n",
       "country             year                                                        \n",
       "Afghanistan         1992  14485.5000           51.641                2.159523   \n",
       "Albania             1992   3245.8900           71.802               25.937798   \n",
       "Algeria             1992  27028.3000           67.575               48.164981   \n",
       "Angola              1992  12657.4000           45.230                6.689229   \n",
       "Antigua and Barbuda 1992     64.9886           72.006               91.763340   \n",
       "\n",
       "                          consumption_per_GDP  ppp_2015USD  production_total  \\\n",
       "country             year                                                       \n",
       "Afghanistan         1992             1.042253     30.01360          0.016143   \n",
       "Albania             1992             8.087302     10.41030          0.065519   \n",
       "Algeria             1992             5.592648    232.77300          5.031036   \n",
       "Angola              1992             1.423070     59.49690          1.152349   \n",
       "Antigua and Barbuda 1992             5.867116      1.01644          0.000000   \n",
       "\n",
       "                          production_coal  production_natural_gas  \\\n",
       "country             year                                            \n",
       "Afghanistan         1992         0.000158                0.011092   \n",
       "Albania             1992         0.003415                0.003760   \n",
       "Algeria             1992         0.000380                2.325281   \n",
       "Angola              1992         0.000000                0.021076   \n",
       "Antigua and Barbuda 1992         0.000000                0.000000   \n",
       "\n",
       "                          production_petrolium_and_other_liquids  \\\n",
       "country             year                                           \n",
       "Afghanistan         1992                                0.000000   \n",
       "Albania             1992                                0.025384   \n",
       "Algeria             1992                                2.703338   \n",
       "Angola              1992                                1.122669   \n",
       "Antigua and Barbuda 1992                                0.000000   \n",
       "\n",
       "                          production_nuclear  ...  exports_electricity  \\\n",
       "country             year                      ...                        \n",
       "Afghanistan         1992                 NaN  ...                0.000   \n",
       "Albania             1992                 NaN  ...                0.560   \n",
       "Algeria             1992                 NaN  ...                1.061   \n",
       "Angola              1992                 NaN  ...                0.000   \n",
       "Antigua and Barbuda 1992                 NaN  ...                0.000   \n",
       "\n",
       "                          emissions_co2_emissions  emissions_coal_and_coke  \\\n",
       "country             year                                                     \n",
       "Afghanistan         1992                 1.704078                 0.015551   \n",
       "Albania             1992                 3.901890                 0.502372   \n",
       "Algeria             1992                74.390488                 2.687475   \n",
       "Angola              1992                 5.218203                 0.000000   \n",
       "Antigua and Barbuda 1992                 0.400000                 0.000000   \n",
       "\n",
       "                          emissions_consumed_natural_gas  \\\n",
       "country             year                                   \n",
       "Afghanistan         1992                        0.588528   \n",
       "Albania             1992                        0.199519   \n",
       "Algeria             1992                       45.703013   \n",
       "Angola              1992                        1.118203   \n",
       "Antigua and Barbuda 1992                        0.000000   \n",
       "\n",
       "                          emissions_petroleum_and_other_liquids  \\\n",
       "country             year                                          \n",
       "Afghanistan         1992                                    1.1   \n",
       "Albania             1992                                    3.2   \n",
       "Algeria             1992                                   26.0   \n",
       "Angola              1992                                    4.1   \n",
       "Antigua and Barbuda 1992                                    0.4   \n",
       "\n",
       "                          is_landlocked  is_nuclear  is_least_developed  \\\n",
       "country             year                                                  \n",
       "Afghanistan         1992              1           0                   1   \n",
       "Albania             1992              0           0                   0   \n",
       "Algeria             1992              0           0                   0   \n",
       "Angola              1992              0           0                   1   \n",
       "Antigua and Barbuda 1992              0           0                   0   \n",
       "\n",
       "                          is_oil_exporter  is_opec  \n",
       "country             year                            \n",
       "Afghanistan         1992                0        0  \n",
       "Albania             1992                0        0  \n",
       "Algeria             1992                1        1  \n",
       "Angola              1992                1        1  \n",
       "Antigua and Barbuda 1992                0        0  \n",
       "\n",
       "[5 rows x 36 columns]"
      ]
     },
     "metadata": {},
     "output_type": "display_data"
    },
    {
     "data": {
      "text/plain": [
       "(4671, 36)"
      ]
     },
     "metadata": {},
     "output_type": "display_data"
    }
   ],
   "source": [
    "#viewing first 5 rows and dimensions of dataframe\n",
    "display(df.head())\n",
    "display (df.shape)\n"
   ]
  },
  {
   "cell_type": "code",
   "execution_count": 8,
   "id": "e799fe0c",
   "metadata": {
    "ExecuteTime": {
     "end_time": "2021-12-04T03:02:14.360489Z",
     "start_time": "2021-12-04T03:02:14.345496Z"
    },
    "scrolled": true
   },
   "outputs": [],
   "source": [
    "#preprocessing years column\n",
    "years = df.index.get_level_values('year').to_list()\n",
    "df['year'] = pd.Categorical(years)"
   ]
  },
  {
   "cell_type": "markdown",
   "id": "5835c73c",
   "metadata": {},
   "source": [
    "To estimate a Pooled OLS regression, the following 5 assumptions have to be met:\n",
    "- Linearity\n",
    "- Exogeneity\n",
    "- Homoskedasticity\n",
    "- No autocorrelation\n",
    "- Independent Variables are not stochastic\n",
    "- No multicollinearity.\n",
    "\n",
    "If the assumptions of No homoskedasticity and No autocorrelation, in particular are unmet, this implies that a fixed effects/random effects model will be more appropriate. Hence, we checked for these two assumptions, as follows:"
   ]
  },
  {
   "cell_type": "code",
   "execution_count": 9,
   "id": "12781116",
   "metadata": {
    "ExecuteTime": {
     "end_time": "2021-12-04T03:02:14.486776Z",
     "start_time": "2021-12-04T03:02:14.361489Z"
    },
    "code_folding": [
     0
    ]
   },
   "outputs": [],
   "source": [
    "#defined exogenous variables with constant\n",
    "exog = sm.tools.tools.add_constant(df[['emissions_co2_emissions', 'emissions_coal_and_coke',\n",
    "                                       'emissions_consumed_natural_gas','consumption_per_capita', ]])\n",
    "\n",
    "#defined endogenous (target) variable\n",
    "endog = df['life_expectancy']\n",
    "\n",
    "#instantiated pooled OLS model\n",
    "model = PooledOLS (endog, exog)\n",
    "\n",
    "#fitting model\n",
    "pooledOLS_res = model.fit(cov_type='clustered', cluster_entity=True)\n",
    "\n",
    "# Store values for checking homoskedasticity graphically\n",
    "fittedvals_pooled_OLS = pooledOLS_res.predict().fitted_values\n",
    "residuals_pooled_OLS = pooledOLS_res.resids\n"
   ]
  },
  {
   "cell_type": "code",
   "execution_count": 10,
   "id": "841c55e7",
   "metadata": {
    "ExecuteTime": {
     "end_time": "2021-12-04T03:02:14.721829Z",
     "start_time": "2021-12-04T03:02:14.487777Z"
    },
    "code_folding": [
     0
    ],
    "scrolled": false
   },
   "outputs": [
    {
     "data": {
      "text/plain": [
       "<Figure size 720x720 with 0 Axes>"
      ]
     },
     "metadata": {},
     "output_type": "display_data"
    },
    {
     "data": {
      "image/png": "[encoded data removed]",
      "text/plain": [
       "<Figure size 720x720 with 1 Axes>"
      ]
     },
     "metadata": {
      "needs_background": "light"
     },
     "output_type": "display_data"
    }
   ],
   "source": [
    "#plot to check for homoskedasticity\n",
    "fig = plt.figure(figsize=(10,10))\n",
    "\n",
    "fig, ax = plt.subplots(figsize=(10,10))\n",
    "ax.scatter(fittedvals_pooled_OLS, residuals_pooled_OLS, color = 'blue', s= 5)\n",
    "ax.axhline(0, color = 'r', ls = '--')\n",
    "ax.set_xlabel('Predicted Values', fontsize = 15)\n",
    "ax.set_ylabel('Residuals', fontsize = 15)\n",
    "ax.set_title('Homoskedasticity Test', fontsize = 30)\n",
    "plt.savefig('Homoskedasticity Test')\n",
    "plt.show();"
   ]
  },
  {
   "cell_type": "markdown",
   "id": "9e816f89",
   "metadata": {},
   "source": [
    "The above plot suggests the presence of heteroskedasticity."
   ]
  },
  {
   "cell_type": "code",
   "execution_count": 11,
   "id": "3bfd195d",
   "metadata": {
    "ExecuteTime": {
     "end_time": "2021-12-04T03:02:14.769841Z",
     "start_time": "2021-12-04T03:02:14.722830Z"
    },
    "code_folding": [
     0
    ]
   },
   "outputs": [
    {
     "name": "stdout",
     "output_type": "stream",
     "text": [
      "{'LM-Stat': 890.738837606294, 'LM p-val': 4.162804333338351e-181, 'F-Stat': 78.36344500579422, 'F p-val': 1.3178858500313424e-201}\n",
      "{'LM-Stat': 28.014578371959605, 'LM p-val': 1.238836097515664e-05, 'F-Stat': 7.0383606027848264, 'F p-val': 1.2044683672272923e-05}\n"
     ]
    }
   ],
   "source": [
    "#Checking for Heteroskedasticity with statistical tests:\n",
    "\n",
    "#A) White Test\n",
    "pooled_OLS_dataset = pd.concat([df, residuals_pooled_OLS], axis=1)\n",
    "pooled_OLS_dataset = pooled_OLS_dataset.drop(['year'], axis = 1).fillna(0)\n",
    "exog = sm.tools.tools.add_constant(df[['emissions_co2_emissions','emissions_consumed_natural_gas',\n",
    "                                      'consumption_per_capita','emissions_coal_and_coke']]).fillna(0)\n",
    "white_test_results = het_white(pooled_OLS_dataset['residual'], exog)\n",
    "labels = ['LM-Stat', 'LM p-val', 'F-Stat', 'F p-val'] \n",
    "print(dict(zip(labels, white_test_results)))\n",
    "\n",
    "#B) Breusch-Pagan-Test\n",
    "breusch_pagan_test_results = het_breuschpagan(pooled_OLS_dataset['residual'], exog)\n",
    "labels = ['LM-Stat', 'LM p-val', 'F-Stat', 'F p-val'] \n",
    "print(dict(zip(labels, breusch_pagan_test_results)))\n",
    "\n",
    "#credit: https://towardsdatascience.com/a-guide-to-panel-data-regression-theoretics-and-implementation-with-python-4c84c5055cf8"
   ]
  },
  {
   "cell_type": "markdown",
   "id": "c7f2f370",
   "metadata": {},
   "source": [
    "P value < 0.05 suggests that there is heteroskedasticity in the model, hence \"no homoskedascity\" assumption has been violated."
   ]
  },
  {
   "cell_type": "code",
   "execution_count": 12,
   "id": "7416a3ca",
   "metadata": {
    "ExecuteTime": {
     "end_time": "2021-12-04T03:02:14.785846Z",
     "start_time": "2021-12-04T03:02:14.770841Z"
    },
    "code_folding": [
     0
    ]
   },
   "outputs": [
    {
     "name": "stdout",
     "output_type": "stream",
     "text": [
      "1.7746273205358425\n"
     ]
    }
   ],
   "source": [
    "#Checking for Autocorrelation\n",
    "\n",
    "#Durbin Watson Test\n",
    "\n",
    "durbin_watson_test_results = durbin_watson(pooled_OLS_dataset['residual']) \n",
    "print(durbin_watson_test_results)"
   ]
  },
  {
   "cell_type": "markdown",
   "id": "6cec29f3",
   "metadata": {},
   "source": [
    "There is positive autocorrelation in the model because the durbin watson statistic < 2. The assumptions of homoskedasticy and no autocorrelation have been violated. As such, we have to utilze a fixed effects or random effects model.\n",
    "\n",
    "We defined the following null and alternative hypothesis:\n",
    "\n",
    "- H0: Energy consumption has no effect on life expectancy\n",
    "- H1: Energy consumption has an effect on life expectancy.\n"
   ]
  },
  {
   "cell_type": "code",
   "execution_count": 13,
   "id": "c0a58bdd",
   "metadata": {
    "ExecuteTime": {
     "end_time": "2021-12-04T03:02:14.935879Z",
     "start_time": "2021-12-04T03:02:14.786845Z"
    },
    "code_folding": [
     0
    ]
   },
   "outputs": [
    {
     "name": "stdout",
     "output_type": "stream",
     "text": [
      "                        RandomEffects Estimation Summary                        \n",
      "================================================================================\n",
      "Dep. Variable:        life_expectancy   R-squared:                        0.0539\n",
      "Estimator:              RandomEffects   R-squared (Between):              0.1481\n",
      "No. Observations:                4671   R-squared (Within):               0.0491\n",
      "Date:                Fri, Dec 03 2021   R-squared (Overall):              0.1379\n",
      "Time:                        19:02:14   Log-likelihood                -1.193e+04\n",
      "Cov. Estimator:            Unadjusted                                           \n",
      "                                        F-statistic:                      66.498\n",
      "Entities:                         174   P-value                           0.0000\n",
      "Avg Obs:                       26.845   Distribution:                  F(4,4666)\n",
      "Min Obs:                       0.0000                                           \n",
      "Max Obs:                       27.000   F-statistic (robust):             66.498\n",
      "                                        P-value                           0.0000\n",
      "Time periods:                      27   Distribution:                  F(4,4666)\n",
      "Avg Obs:                       173.00                                           \n",
      "Min Obs:                       173.00                                           \n",
      "Max Obs:                       173.00                                           \n",
      "                                                                                \n",
      "                                           Parameter Estimates                                           \n",
      "=========================================================================================================\n",
      "                                       Parameter  Std. Err.     T-stat    P-value    Lower CI    Upper CI\n",
      "---------------------------------------------------------------------------------------------------------\n",
      "const                                     65.805     0.6163     106.77     0.0000      64.597      67.013\n",
      "emissions_co2_emissions                   0.0194     0.0024     8.0729     0.0000      0.0147      0.0241\n",
      "emissions_coal_and_coke                  -0.0206     0.0024    -8.5656     0.0000     -0.0254     -0.0159\n",
      "emissions_petroleum_and_other_liquids    -0.0123     0.0037    -3.2910     0.0010     -0.0197     -0.0050\n",
      "consumption_per_capita                    0.0154     0.0018     8.5490     0.0000      0.0119      0.0190\n",
      "=========================================================================================================\n",
      "                          PanelOLS Estimation Summary                           \n",
      "================================================================================\n",
      "Dep. Variable:        life_expectancy   R-squared:                        0.0506\n",
      "Estimator:                   PanelOLS   R-squared (Between):              0.0798\n",
      "No. Observations:                4671   R-squared (Within):               0.0506\n",
      "Date:                Fri, Dec 03 2021   R-squared (Overall):              0.0768\n",
      "Time:                        19:02:14   Log-likelihood                -1.182e+04\n",
      "Cov. Estimator:            Unadjusted                                           \n",
      "                                        F-statistic:                      59.893\n",
      "Entities:                         174   P-value                           0.0000\n",
      "Avg Obs:                       26.845   Distribution:                  F(4,4494)\n",
      "Min Obs:                       0.0000                                           \n",
      "Max Obs:                       27.000   F-statistic (robust):             59.893\n",
      "                                        P-value                           0.0000\n",
      "Time periods:                      27   Distribution:                  F(4,4494)\n",
      "Avg Obs:                       173.00                                           \n",
      "Min Obs:                       173.00                                           \n",
      "Max Obs:                       173.00                                           \n",
      "                                                                                \n",
      "                                           Parameter Estimates                                           \n",
      "=========================================================================================================\n",
      "                                       Parameter  Std. Err.     T-stat    P-value    Lower CI    Upper CI\n",
      "---------------------------------------------------------------------------------------------------------\n",
      "const                                     65.824     0.1877     350.59     0.0000      65.456      66.192\n",
      "emissions_co2_emissions                   0.0228     0.0025     9.1691     0.0000      0.0179      0.0277\n",
      "emissions_coal_and_coke                  -0.0246     0.0025    -9.7516     0.0000     -0.0295     -0.0196\n",
      "emissions_petroleum_and_other_liquids    -0.0127     0.0039    -3.2873     0.0010     -0.0203     -0.0051\n",
      "consumption_per_capita                    0.0120     0.0019     6.2565     0.0000      0.0083      0.0158\n",
      "=========================================================================================================\n",
      "\n",
      "F-test for Poolability: 168.81\n",
      "P-value: 0.0000\n",
      "Distribution: F(172,4494)\n",
      "\n",
      "Included effects: Entity\n"
     ]
    }
   ],
   "source": [
    "#Estimating Fixed Effects and Random Effects Models\n",
    "\n",
    "exog = sm.tools.tools.add_constant(df[['emissions_co2_emissions','emissions_coal_and_coke',\n",
    "                                       'emissions_petroleum_and_other_liquids', 'consumption_per_capita']])\n",
    "endog = df['life_expectancy']\n",
    "# random effects model\n",
    "model_re = RandomEffects(endog, exog) \n",
    "re_res = model_re.fit() \n",
    "\n",
    "# fixed effects model\n",
    "model_fe = PanelOLS(endog, exog, entity_effects = True) \n",
    "fe_res = model_fe.fit() \n",
    "#print results\n",
    "print(re_res)\n",
    "print(fe_res)"
   ]
  },
  {
   "cell_type": "code",
   "execution_count": 14,
   "id": "d3dd5819",
   "metadata": {
    "ExecuteTime": {
     "end_time": "2021-12-04T03:02:14.944881Z",
     "start_time": "2021-12-04T03:02:14.936879Z"
    },
    "code_folding": [
     0
    ]
   },
   "outputs": [],
   "source": [
    "# function to perform Hausman Test to indicate preferred model\n",
    "def hausman(fe, re):\n",
    "    b = fe.params\n",
    "    B = re.params\n",
    "    v_b = fe.cov\n",
    "    v_B = re.cov\n",
    "    \n",
    "    \n",
    "\n",
    "    df= b[np.abs(b) < 1e8].size\n",
    "    chi2 = np.dot((b - B).T, la.inv(v_b - v_B).dot(b - B)) \n",
    " \n",
    "    pval = stats.chi2.sf(chi2, df)\n",
    "    return chi2, df, pval\n",
    "#credit: https://towardsdatascience.com/a-guide-to-panel-data-regression-theoretics-and-implementation-with-python-4c84c5055cf8"
   ]
  },
  {
   "cell_type": "code",
   "execution_count": 15,
   "id": "25d9d94c",
   "metadata": {
    "ExecuteTime": {
     "end_time": "2021-12-04T03:02:14.960884Z",
     "start_time": "2021-12-04T03:02:14.945881Z"
    },
    "code_folding": [
     0
    ]
   },
   "outputs": [
    {
     "name": "stdout",
     "output_type": "stream",
     "text": [
      "chi-Squared:51.12058804401437\n",
      "degrees of freedom: 5\n",
      "p-Value: 8.170460611411514e-10\n"
     ]
    }
   ],
   "source": [
    "#printing results\n",
    "hausman_results = hausman(fe_res, re_res) \n",
    "print('chi-Squared:' + str(hausman_results[0]))\n",
    "print('degrees of freedom: ' + str(hausman_results[1]))\n",
    "print('p-Value: ' + str(hausman_results[2]))\n",
    "\n",
    "#credit: https://towardsdatascience.com/a-guide-to-panel-data-regression-theoretics-and-implementation-with-python-4c84c5055cf8"
   ]
  },
  {
   "cell_type": "markdown",
   "id": "02b34726",
   "metadata": {},
   "source": [
    "Because the p value is < 0.05, we reject the null hypothesis that the preferred model is random effects. In this case,the fixed effects model is more suitable. \n",
    "\n",
    "The fixed effects model coefficients show that ceteris paribus,:\n",
    "\n",
    "- For every one million ton increase in Co2 emissions, we expect life expectancy to increase by about 1 week;\n",
    "- For every one million ton increase in Co2 emissions from coal/coke, we expect life expectancy to decline by about 1 week ;\n",
    "- For every one million ton increase in Co2 emissions from petrol & other liquids, we expect life expectancy to decline by about 3 days ; and\n",
    "- For every million British Thermal Units (BTU) of energy consumed per person, we expect life expectancy to increase by about 3 days. \n"
   ]
  },
  {
   "cell_type": "markdown",
   "id": "538622b9",
   "metadata": {},
   "source": [
    "## Oil Exporting Countries"
   ]
  },
  {
   "cell_type": "code",
   "execution_count": 16,
   "id": "4273c1ae",
   "metadata": {
    "ExecuteTime": {
     "end_time": "2021-12-04T03:02:14.976887Z",
     "start_time": "2021-12-04T03:02:14.961884Z"
    },
    "code_folding": [
     0
    ]
   },
   "outputs": [
    {
     "data": {
      "text/plain": [
       "(432, 37)"
      ]
     },
     "execution_count": 16,
     "metadata": {},
     "output_type": "execute_result"
    }
   ],
   "source": [
    "#Filtering subset of data\n",
    "oil_exporters = df[df['is_oil_exporter']==1]\n",
    "oil_exporters.shape"
   ]
  },
  {
   "cell_type": "code",
   "execution_count": 17,
   "id": "22d1f775",
   "metadata": {
    "ExecuteTime": {
     "end_time": "2021-12-04T03:02:15.072909Z",
     "start_time": "2021-12-04T03:02:14.977888Z"
    },
    "code_folding": [
     0
    ]
   },
   "outputs": [
    {
     "name": "stdout",
     "output_type": "stream",
     "text": [
      "                        RandomEffects Estimation Summary                        \n",
      "================================================================================\n",
      "Dep. Variable:        life_expectancy   R-squared:                        0.1817\n",
      "Estimator:              RandomEffects   R-squared (Between):              0.1398\n",
      "No. Observations:                 432   R-squared (Within):               0.1834\n",
      "Date:                Fri, Dec 03 2021   R-squared (Overall):              0.1433\n",
      "Time:                        19:02:15   Log-likelihood                   -995.03\n",
      "Cov. Estimator:            Unadjusted                                           \n",
      "                                        F-statistic:                      23.696\n",
      "Entities:                         169   P-value                           0.0000\n",
      "Avg Obs:                       2.5562   Distribution:                   F(4,427)\n",
      "Min Obs:                       0.0000                                           \n",
      "Max Obs:                       27.000   F-statistic (robust):             23.696\n",
      "                                        P-value                           0.0000\n",
      "Time periods:                      27   Distribution:                   F(4,427)\n",
      "Avg Obs:                       16.000                                           \n",
      "Min Obs:                       16.000                                           \n",
      "Max Obs:                       16.000                                           \n",
      "                                                                                \n",
      "                                           Parameter Estimates                                           \n",
      "=========================================================================================================\n",
      "                                       Parameter  Std. Err.     T-stat    P-value    Lower CI    Upper CI\n",
      "---------------------------------------------------------------------------------------------------------\n",
      "const                                     62.723     2.0275     30.936     0.0000      58.738      66.709\n",
      "emissions_co2_emissions                   0.0145     0.0023     6.3954     0.0000      0.0100      0.0189\n",
      "emissions_coal_and_coke                  -0.0148     0.0022    -6.6311     0.0000     -0.0192     -0.0104\n",
      "emissions_petroleum_and_other_liquids    -0.0121     0.0039    -3.0977     0.0021     -0.0197     -0.0044\n",
      "consumption_per_capita                    0.0067     0.0033     2.0108     0.0450      0.0002      0.0133\n",
      "=========================================================================================================\n",
      "                          PanelOLS Estimation Summary                           \n",
      "================================================================================\n",
      "Dep. Variable:        life_expectancy   R-squared:                        0.1853\n",
      "Estimator:                   PanelOLS   R-squared (Between):              0.0393\n",
      "No. Observations:                 432   R-squared (Within):               0.1853\n",
      "Date:                Fri, Dec 03 2021   R-squared (Overall):              0.0509\n",
      "Time:                        19:02:15   Log-likelihood                   -985.17\n",
      "Cov. Estimator:            Unadjusted                                           \n",
      "                                        F-statistic:                      23.425\n",
      "Entities:                         169   P-value                           0.0000\n",
      "Avg Obs:                       2.5562   Distribution:                   F(4,412)\n",
      "Min Obs:                       0.0000                                           \n",
      "Max Obs:                       27.000   F-statistic (robust):             23.425\n",
      "                                        P-value                           0.0000\n",
      "Time periods:                      27   Distribution:                   F(4,412)\n",
      "Avg Obs:                       16.000                                           \n",
      "Min Obs:                       16.000                                           \n",
      "Max Obs:                       16.000                                           \n",
      "                                                                                \n",
      "                                           Parameter Estimates                                           \n",
      "=========================================================================================================\n",
      "                                       Parameter  Std. Err.     T-stat    P-value    Lower CI    Upper CI\n",
      "---------------------------------------------------------------------------------------------------------\n",
      "const                                     62.521     0.6547     95.497     0.0000      61.234      63.808\n",
      "emissions_co2_emissions                   0.0152     0.0023     6.6257     0.0000      0.0107      0.0197\n",
      "emissions_coal_and_coke                  -0.0158     0.0023    -6.9288     0.0000     -0.0203     -0.0113\n",
      "emissions_petroleum_and_other_liquids    -0.0112     0.0040    -2.7823     0.0056     -0.0191     -0.0033\n",
      "consumption_per_capita                    0.0050     0.0035     1.4437     0.1496     -0.0018      0.0118\n",
      "=========================================================================================================\n",
      "\n",
      "F-test for Poolability: 210.84\n",
      "P-value: 0.0000\n",
      "Distribution: F(15,412)\n",
      "\n",
      "Included effects: Entity\n"
     ]
    }
   ],
   "source": [
    "#Estimating Fixed Effects and Random Effects Model\n",
    "\n",
    "exog_oil = sm.tools.tools.add_constant(oil_exporters[['emissions_co2_emissions','emissions_coal_and_coke',\n",
    "                                       'emissions_petroleum_and_other_liquids', 'consumption_per_capita']])\n",
    "endog_oil = oil_exporters['life_expectancy']\n",
    "\n",
    "# random effects model\n",
    "model_re_oil = RandomEffects(endog_oil, exog_oil) \n",
    "re_res_oil = model_re_oil.fit() \n",
    "\n",
    "# fixed effects model\n",
    "model_fe_oil = PanelOLS(endog_oil, exog_oil, entity_effects = True) \n",
    "fe_res_oil = model_fe_oil.fit() \n",
    "\n",
    "#print results\n",
    "print(re_res_oil)\n",
    "print(fe_res_oil)"
   ]
  },
  {
   "cell_type": "code",
   "execution_count": 18,
   "id": "0aa8b3d2",
   "metadata": {
    "ExecuteTime": {
     "end_time": "2021-12-04T03:02:15.088912Z",
     "start_time": "2021-12-04T03:02:15.073909Z"
    },
    "code_folding": [
     0
    ]
   },
   "outputs": [
    {
     "name": "stdout",
     "output_type": "stream",
     "text": [
      "chi-Squared:12.580515098085698\n",
      "degrees of freedom: 5\n",
      "p-Value: 0.02764350281563448\n"
     ]
    }
   ],
   "source": [
    "#printing results\n",
    "hausman_results_oil = hausman(fe_res_oil, re_res_oil) \n",
    "print('chi-Squared:' + str(hausman_results_oil[0]))\n",
    "print('degrees of freedom: ' + str(hausman_results_oil[1]))\n",
    "print('p-Value: ' + str(hausman_results_oil[2]))"
   ]
  },
  {
   "cell_type": "markdown",
   "id": "a18b4d81",
   "metadata": {},
   "source": [
    "Because the p value is < 0.05, we reject the null hypothesis that the preferred model is random effects. In this case,the fixed effects model is more suitable. \n",
    "\n",
    "\n",
    "The fixed effects model coefficients show that ceteris paribus, in oil exporting countries:\n",
    "\n",
    "- For every one million ton increase in Co2 emissions, we expect life expectancy to increase by about 4 days;\n",
    "- For every one million ton increase in Co2 emissions from coal/coke, we expect life expectancy to decline by about 4 days ;\n",
    "- For every one million ton increase in Co2 emissions from petrol & other liquids, we expect life expectancy to decline by about 2 days ; and\n",
    "- For every million British Thermal Units (BTU) of energy consumed per person, we expect life expectancy to increase by some hours. \n"
   ]
  },
  {
   "cell_type": "markdown",
   "id": "27ec6124",
   "metadata": {},
   "source": [
    "## LDCs"
   ]
  },
  {
   "cell_type": "code",
   "execution_count": 19,
   "id": "f9be7952",
   "metadata": {
    "ExecuteTime": {
     "end_time": "2021-12-04T03:02:15.104917Z",
     "start_time": "2021-12-04T03:02:15.089914Z"
    },
    "code_folding": [
     0
    ]
   },
   "outputs": [
    {
     "data": {
      "text/plain": [
       "(1134, 37)"
      ]
     },
     "execution_count": 19,
     "metadata": {},
     "output_type": "execute_result"
    }
   ],
   "source": [
    "#filtering subset of data\n",
    "ldc = df[df['is_least_developed']==1]\n",
    "ldc.shape"
   ]
  },
  {
   "cell_type": "code",
   "execution_count": 20,
   "id": "b79171dd",
   "metadata": {
    "ExecuteTime": {
     "end_time": "2021-12-04T03:02:15.200938Z",
     "start_time": "2021-12-04T03:02:15.105917Z"
    },
    "code_folding": [
     0
    ]
   },
   "outputs": [
    {
     "name": "stdout",
     "output_type": "stream",
     "text": [
      "                        RandomEffects Estimation Summary                        \n",
      "================================================================================\n",
      "Dep. Variable:        life_expectancy   R-squared:                        0.2406\n",
      "Estimator:              RandomEffects   R-squared (Between):              0.0474\n",
      "No. Observations:                1134   R-squared (Within):               0.2473\n",
      "Date:                Fri, Dec 03 2021   R-squared (Overall):              0.1320\n",
      "Time:                        19:02:15   Log-likelihood                   -3241.1\n",
      "Cov. Estimator:            Unadjusted                                           \n",
      "                                        F-statistic:                      89.424\n",
      "Entities:                         173   P-value                           0.0000\n",
      "Avg Obs:                       6.5549   Distribution:                  F(4,1129)\n",
      "Min Obs:                       0.0000                                           \n",
      "Max Obs:                       27.000   F-statistic (robust):             89.424\n",
      "                                        P-value                           0.0000\n",
      "Time periods:                      27   Distribution:                  F(4,1129)\n",
      "Avg Obs:                       42.000                                           \n",
      "Min Obs:                       42.000                                           \n",
      "Max Obs:                       42.000                                           \n",
      "                                                                                \n",
      "                                           Parameter Estimates                                           \n",
      "=========================================================================================================\n",
      "                                       Parameter  Std. Err.     T-stat    P-value    Lower CI    Upper CI\n",
      "---------------------------------------------------------------------------------------------------------\n",
      "const                                     53.219     0.8150     65.299     0.0000      51.620      54.818\n",
      "emissions_co2_emissions                  -0.0157     0.0545    -0.2876     0.7737     -0.1227      0.0913\n",
      "emissions_coal_and_coke                   0.0556     0.1324     0.4196     0.6749     -0.2042      0.3153\n",
      "consumption_per_capita                    0.1368     0.0259     5.2848     0.0000      0.0860      0.1876\n",
      "emissions_petroleum_and_other_liquids     1.0592     0.1007     10.515     0.0000      0.8616      1.2568\n",
      "=========================================================================================================\n",
      "                          PanelOLS Estimation Summary                           \n",
      "================================================================================\n",
      "Dep. Variable:        life_expectancy   R-squared:                        0.2478\n",
      "Estimator:                   PanelOLS   R-squared (Between):              0.0144\n",
      "No. Observations:                1134   R-squared (Within):               0.2478\n",
      "Date:                Fri, Dec 03 2021   R-squared (Overall):              0.1132\n",
      "Time:                        19:02:15   Log-likelihood                   -3216.5\n",
      "Cov. Estimator:            Unadjusted                                           \n",
      "                                        F-statistic:                      89.606\n",
      "Entities:                         173   P-value                           0.0000\n",
      "Avg Obs:                       6.5549   Distribution:                  F(4,1088)\n",
      "Min Obs:                       0.0000                                           \n",
      "Max Obs:                       27.000   F-statistic (robust):             89.606\n",
      "                                        P-value                           0.0000\n",
      "Time periods:                      27   Distribution:                  F(4,1088)\n",
      "Avg Obs:                       42.000                                           \n",
      "Min Obs:                       42.000                                           \n",
      "Max Obs:                       42.000                                           \n",
      "                                                                                \n",
      "                                           Parameter Estimates                                           \n",
      "=========================================================================================================\n",
      "                                       Parameter  Std. Err.     T-stat    P-value    Lower CI    Upper CI\n",
      "---------------------------------------------------------------------------------------------------------\n",
      "const                                     53.136     0.2447     217.16     0.0000      52.656      53.616\n",
      "emissions_co2_emissions                  -0.0279     0.0564    -0.4951     0.6206     -0.1387      0.0828\n",
      "emissions_coal_and_coke                   0.0694     0.1341     0.5172     0.6051     -0.1938      0.3326\n",
      "consumption_per_capita                    0.1258     0.0269     4.6722     0.0000      0.0730      0.1786\n",
      "emissions_petroleum_and_other_liquids     1.1322     0.1038     10.910     0.0000      0.9286      1.3359\n",
      "=========================================================================================================\n",
      "\n",
      "F-test for Poolability: 39.102\n",
      "P-value: 0.0000\n",
      "Distribution: F(41,1088)\n",
      "\n",
      "Included effects: Entity\n"
     ]
    }
   ],
   "source": [
    "#Fixed Effects and Random Effects Model\n",
    "\n",
    "exog_ldc = sm.tools.tools.add_constant(ldc[['emissions_co2_emissions','emissions_coal_and_coke', 'consumption_per_capita', \"emissions_petroleum_and_other_liquids\"]])\n",
    "endog_ldc = ldc['life_expectancy']\n",
    "\n",
    "# random effects model\n",
    "model_re_ldc = RandomEffects(endog_ldc, exog_ldc) \n",
    "re_res_ldc = model_re_ldc.fit() \n",
    "\n",
    "# fixed effects model\n",
    "model_fe_ldc = PanelOLS(endog_ldc, exog_ldc, entity_effects = True) \n",
    "fe_res_ldc = model_fe_ldc.fit() \n",
    "\n",
    "#print results\n",
    "print(re_res_ldc)\n",
    "print(fe_res_ldc)"
   ]
  },
  {
   "cell_type": "code",
   "execution_count": 21,
   "id": "126538f0",
   "metadata": {
    "ExecuteTime": {
     "end_time": "2021-12-04T03:02:15.216942Z",
     "start_time": "2021-12-04T03:02:15.201938Z"
    },
    "code_folding": [
     0
    ]
   },
   "outputs": [
    {
     "name": "stdout",
     "output_type": "stream",
     "text": [
      "chi-Squared:8.204606320010832\n",
      "degrees of freedom: 5\n",
      "p-Value: 0.14531404436528067\n"
     ]
    }
   ],
   "source": [
    "#printing results \n",
    "hausman_results_ldc = hausman(fe_res_ldc, re_res_ldc) \n",
    "print('chi-Squared:' + str(hausman_results_ldc[0]))\n",
    "print('degrees of freedom: ' + str(hausman_results_ldc[1]))\n",
    "print('p-Value: ' + str(hausman_results_ldc[2]))"
   ]
  },
  {
   "cell_type": "markdown",
   "id": "3f132459",
   "metadata": {},
   "source": [
    "Because the p value is > 0.05, we fail to reject the null hypothesis that the preferred model is random effects. Thus, the random effects model is more suitable in this case.\n",
    "\n",
    "\n",
    "The random effects model coefficients show that ceteris paribus, in least developed countries:\n",
    "\n",
    "- For every one million ton increase in Co2 emissions, we expect life expectancy to decline by about 4 days;\n",
    "- For every one million ton increase in Co2 emissions from coal/coke, we expect life expectancy to increase by about 2 weeks ;\n",
    "- For every one million ton increase in Co2 emissions from petrol & other liquids, we expect life expectancy to increase by about 1 month ; and\n",
    "- For every million British Thermal Units (BTU) of energy consumed per person, we expect life expectancy to increase by about 3 days. \n"
   ]
  },
  {
   "cell_type": "markdown",
   "id": "bfcaa003",
   "metadata": {},
   "source": [
    "# Conclusion"
   ]
  },
  {
   "cell_type": "markdown",
   "id": "3bda1797",
   "metadata": {},
   "source": [
    "- Yes, energy consumption does affect life expectancy. However there are nuances, with regards to pollutant, and country's level of development.\n",
    "- We explored the relationship between energy consumption and life expectancy for 172 countries from 1992-2018, using fixed effects and random effects models. \n",
    "- Emissions from petroleum, coal and coke were found to have a significant, negative effect on life expectancy, while C02 emissions showed a significant positive relationship with life expectancy. However, this did not hold in the specific case of Least Developed Countries (LDCs).\n",
    "- CO2 emissions showed a significant, negative relationship with life expectancy in LDCs, whereas emissions from coal,coke and petroleum showed a significant, positive relationship. \n",
    "- Energy consumption per capita showed a significant positive effect on life expectancy, worldwide, as well as in the two subsets analyzed."
   ]
  },
  {
   "cell_type": "markdown",
   "id": "04650637",
   "metadata": {},
   "source": [
    "# Recommendations"
   ]
  },
  {
   "cell_type": "markdown",
   "id": "30cd9e46",
   "metadata": {},
   "source": [
    "- We recommend that there is need to study this relationship on more micro levels, for instance, using more granular data, including more features which explain life expectancy, longer time span to better understand impacts of energy consumption/efficiency on life expectancy.\n",
    "- There is need for more research into use of coal/coke and petroleum in LDCs. How can we get these countries to move towards cleaner forms of energy? This is especially important given that the goal of sustainable development is a collective one.\n"
   ]
  }
 ],
 "metadata": {
  "kernelspec": {
   "display_name": "Python 3",
   "language": "python",
   "name": "python3"
  },
  "language_info": {
   "codemirror_mode": {
    "name": "ipython",
    "version": 3
   },
   "file_extension": ".py",
   "mimetype": "text/x-python",
   "name": "python",
   "nbconvert_exporter": "python",
   "pygments_lexer": "ipython3",
   "version": "3.8.8"
  }
 },
 "nbformat": 4,
 "nbformat_minor": 5
}
